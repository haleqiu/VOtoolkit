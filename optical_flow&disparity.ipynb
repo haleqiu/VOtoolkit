{
 "cells": [
  {
   "cell_type": "code",
   "execution_count": 2,
   "id": "charming-junior",
   "metadata": {},
   "outputs": [],
   "source": [
    "import cv2, os\n",
    "import numpy as np\n",
    "import glob\n",
    "import matplotlib.pyplot as plt"
   ]
  },
  {
   "cell_type": "code",
   "execution_count": 53,
   "id": "beneficial-kansas",
   "metadata": {},
   "outputs": [],
   "source": [
    "import shutil, os\n",
    "\n",
    "for i in range(100):\n",
    "    i = 0\n",
    "    source_idx = i+350\n",
    "    dst_idx = i\n",
    "    source_file = os.path.join(\"/home/yuheng/data/shibuya_640_360_fov45_few_people_bags/2020-08-29-03-56-21/image_0\", \"%06d.png\"%source_idx)\n",
    "    dst_file = os.path.join(\"/home/yuheng/data/tartan-air-demo/image_0\", \"%06d.png\"%dst_idx)\n",
    "    shutil.copy(source_file, dst_file)\n",
    "    break"
   ]
  },
  {
   "cell_type": "markdown",
   "id": "quick-scanning",
   "metadata": {},
   "source": [
    "# Lucas-Kanade method"
   ]
  },
  {
   "cell_type": "code",
   "execution_count": 31,
   "id": "bridal-johnson",
   "metadata": {},
   "outputs": [],
   "source": [
    "import numpy as np\n",
    "\n",
    "\n",
    "def flow_visualize(flow):\n",
    "        \n",
    "    mag, ang = cv2.cartToPolar(flow[...,0], flow[...,1])\n",
    "    hsv[...,0] = ang*180/np.pi/2\n",
    "    hsv[...,2] = cv2.normalize(mag,None,0,255,cv2.NORM_MINMAX)\n",
    "    bgr = cv2.cvtColor(hsv,cv2.COLOR_HSV2BGR)\n",
    "\n",
    "    plt.imshow(bgr)\n",
    "\n",
    "folder_path = \"/home/yuheng/data/tartan-air-demo\"\n",
    "# Enqueue the image list\n",
    "image_paths = glob.glob(os.path.join(folder_path,\"image_0/*.png\"))\n",
    "image_paths.sort()\n",
    "\n",
    "# Take first frame and find corners in it\n",
    "old_frame =  cv2.imread(image_paths[0])\n",
    "old_gray = cv2.cvtColor(old_frame, cv2.COLOR_BGR2GRAY)\n",
    "\n",
    "hsv = np.zeros_like(old_frame)\n",
    "hsv[...,1] = 255\n",
    "# Create some random colors\n",
    "color = np.random.randint(0,255,(100,3))\n",
    "\n",
    "for i, path in enumerate(image_paths[1:]):\n",
    "    frame = cv2.imread(path)\n",
    "    frame_gray = cv2.cvtColor(frame, cv2.COLOR_BGR2GRAY)\n",
    "\n",
    "    # calculate optical flow\n",
    "    flow = cv2.calcOpticalFlowFarneback(old_gray,frame_gray, None, 0.5, 3, 15, 3, 5, 1.2, 0)\n",
    "\n",
    "    # Now update the previous frame and previous points\n",
    "    old_gray = frame_gray.copy()\n",
    "    \n",
    "    cv2.writeOpticalFlow(os.path.join(folder_path, \"flow/%06d.flo\"%i), flow)\n"
   ]
  },
  {
   "cell_type": "code",
   "execution_count": 73,
   "id": "waiting-indian",
   "metadata": {},
   "outputs": [],
   "source": [
    "dpt = cv2.imread(\"/home/yuheng/data/demo-kitti/depth/000000.png\", cv2.IMREAD_UNCHANGED)"
   ]
  },
  {
   "cell_type": "code",
   "execution_count": 127,
   "id": "interested-contest",
   "metadata": {},
   "outputs": [],
   "source": [
    "left_image_paths = glob.glob(os.path.join(folder_path,\"image_0/*.png\"))\n",
    "right_image_paths = glob.glob(os.path.join(folder_path,\"image_1/*.png\"))\n",
    "left_image_paths.sort();right_image_paths.sort()\n",
    "\n",
    "for i, (lim, rim) in enumerate(zip(left_image_paths, right_image_paths)):\n",
    "    imgL = cv2.imread(lim)\n",
    "    imgL = cv2.cvtColor(imgL, cv2.COLOR_BGR2GRAY)\n",
    "    imgR = cv2.imread(rim)\n",
    "    imgR = cv2.cvtColor(imgR, cv2.COLOR_BGR2GRAY)\n",
    "    stereo = cv2.StereoBM_create(numDisparities=16, blockSize=15)\n",
    "    disparity = stereo.compute(imgL,imgR)\n",
    "    imd = disparity*256.0\n",
    "    zero_mask = imd < 0\n",
    "    imd[zero_mask] = 0\n",
    "    cv2.imwrite(os.path.join(folder_path, \"depth/%06d.png\"%i), imd)"
   ]
  },
  {
   "cell_type": "code",
   "execution_count": 116,
   "id": "forty-genre",
   "metadata": {},
   "outputs": [
    {
     "data": {
      "text/plain": [
       "'/home/yuheng/data/tartan-air-demo/depth'"
      ]
     },
     "execution_count": 116,
     "metadata": {},
     "output_type": "execute_result"
    }
   ],
   "source": [
    "os.path.join(folder_path, \"depth\")"
   ]
  },
  {
   "cell_type": "code",
   "execution_count": 108,
   "id": "indirect-audio",
   "metadata": {},
   "outputs": [],
   "source": [
    "imd = imd.astype(\"uint16\")"
   ]
  },
  {
   "cell_type": "code",
   "execution_count": 118,
   "id": "driven-triple",
   "metadata": {},
   "outputs": [],
   "source": [
    "imd = disparity"
   ]
  },
  {
   "cell_type": "code",
   "execution_count": 122,
   "id": "revised-heating",
   "metadata": {},
   "outputs": [],
   "source": [
    "mask = disparity < 0\n",
    "disparity[mask] = 0"
   ]
  },
  {
   "cell_type": "code",
   "execution_count": 123,
   "id": "hydraulic-mission",
   "metadata": {},
   "outputs": [
    {
     "data": {
      "text/plain": [
       "array([[False, False, False, ..., False, False, False],\n",
       "       [False, False, False, ..., False, False, False],\n",
       "       [False, False, False, ..., False, False, False],\n",
       "       ...,\n",
       "       [False, False, False, ..., False, False, False],\n",
       "       [False, False, False, ..., False, False, False],\n",
       "       [False, False, False, ..., False, False, False]])"
      ]
     },
     "execution_count": 123,
     "metadata": {},
     "output_type": "execute_result"
    }
   ],
   "source": [
    "disparity < 0"
   ]
  },
  {
   "cell_type": "code",
   "execution_count": null,
   "id": "registered-syndicate",
   "metadata": {},
   "outputs": [],
   "source": []
  }
 ],
 "metadata": {
  "kernelspec": {
   "display_name": "Python 3",
   "language": "python",
   "name": "python3"
  },
  "language_info": {
   "codemirror_mode": {
    "name": "ipython",
    "version": 3
   },
   "file_extension": ".py",
   "mimetype": "text/x-python",
   "name": "python",
   "nbconvert_exporter": "python",
   "pygments_lexer": "ipython3",
   "version": "3.8.5"
  }
 },
 "nbformat": 4,
 "nbformat_minor": 5
}
